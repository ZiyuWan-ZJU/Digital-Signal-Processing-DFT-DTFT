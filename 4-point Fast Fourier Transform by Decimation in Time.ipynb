{
 "cells": [
  {
   "cell_type": "code",
   "execution_count": 7,
   "metadata": {},
   "outputs": [],
   "source": [
    "import matplotlib as mpl\n",
    "import numpy as np\n",
    "import matplotlib.pyplot as plt\n",
    "import math\n",
    "import matplotlib.pyplot as plt\n",
    "import numpy as np\n",
    "from scipy import signal"
   ]
  },
  {
   "cell_type": "code",
   "execution_count": 8,
   "metadata": {},
   "outputs": [],
   "source": [
    "#旋转因子\n",
    "def Wnm(N,M):\n",
    "    return np.exp(-2j*np.pi/N*M)"
   ]
  },
  {
   "cell_type": "code",
   "execution_count": 11,
   "metadata": {},
   "outputs": [],
   "source": [
    "#基2时间抽取4点FFT\n",
    "#4-point Fast Fourier Transform by Decimation in Time\n",
    "def FFT_4(x):\n",
    "    x1=np.zeros(int(len(x)/2),dtype = complex)\n",
    "    x2=np.zeros(int(len(x)/2),dtype = complex)\n",
    "    X1=np.zeros(int(len(x)/2),dtype = complex)\n",
    "    X2=np.zeros(int(len(x)/2),dtype = complex)\n",
    "    X=np.zeros(int(len(x)),dtype = complex)\n",
    "    for k in range(0,int(len(x)/2)):\n",
    "        x1[k]=x[2*k]\n",
    "        x2[k]=x[2*k+1]\n",
    "        \n",
    "    X1[0]=x1[0]+x1[1]*Wnm(4,0)\n",
    "    X1[1]=x1[0]-x1[1]*Wnm(4,0)\n",
    "    X2[0]=x2[0]+x2[1]*Wnm(4,0)\n",
    "    X2[1]=x2[0]-x2[1]*Wnm(4,0)\n",
    "    X[0]=X1[0]+X2[0]*Wnm(4,0)\n",
    "    X[1]=X1[1]+X2[1]*Wnm(4,1)\n",
    "    X[2]=X1[0]-X2[0]*Wnm(4,0)\n",
    "    X[3]=X1[1]-X2[1]*Wnm(4,1)\n",
    "    return X"
   ]
  },
  {
   "cell_type": "code",
   "execution_count": 12,
   "metadata": {},
   "outputs": [
    {
     "data": {
      "text/plain": [
       "array([10.+0.j, -2.+2.j, -2.+0.j, -2.-2.j])"
      ]
     },
     "execution_count": 12,
     "metadata": {},
     "output_type": "execute_result"
    }
   ],
   "source": [
    "x=[1,2,3,4]\n",
    "FFT_4(x)"
   ]
  },
  {
   "cell_type": "code",
   "execution_count": null,
   "metadata": {},
   "outputs": [],
   "source": []
  }
 ],
 "metadata": {
  "kernelspec": {
   "display_name": "Python 3",
   "language": "python",
   "name": "python3"
  },
  "language_info": {
   "codemirror_mode": {
    "name": "ipython",
    "version": 3
   },
   "file_extension": ".py",
   "mimetype": "text/x-python",
   "name": "python",
   "nbconvert_exporter": "python",
   "pygments_lexer": "ipython3",
   "version": "3.7.3"
  }
 },
 "nbformat": 4,
 "nbformat_minor": 2
}
