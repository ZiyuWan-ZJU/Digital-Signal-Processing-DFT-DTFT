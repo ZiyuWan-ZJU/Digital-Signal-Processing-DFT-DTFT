{
 "cells": [
  {
   "cell_type": "code",
   "execution_count": 1,
   "metadata": {},
   "outputs": [],
   "source": [
    "import matplotlib as mpl\n",
    "import numpy as np\n",
    "import matplotlib.pyplot as plt\n",
    "import math\n",
    "import matplotlib.pyplot as plt\n",
    "import numpy as np\n",
    "from scipy import signal"
   ]
  },
  {
   "cell_type": "code",
   "execution_count": 2,
   "metadata": {},
   "outputs": [],
   "source": [
    "#旋转因子\n",
    "def Wnm(N,M):\n",
    "    return np.exp(-2j*np.pi/N*M)"
   ]
  },
  {
   "cell_type": "code",
   "execution_count": 3,
   "metadata": {},
   "outputs": [],
   "source": [
    "#基2时间抽取4点FFT\n",
    "#4-point Fast Fourier Transform by Decimation in Time\n",
    "def FFT_4(x):\n",
    "    x1=np.zeros(int(len(x)/2),dtype = complex)\n",
    "    x2=np.zeros(int(len(x)/2),dtype = complex)\n",
    "    X1=np.zeros(int(len(x)/2),dtype = complex)\n",
    "    X2=np.zeros(int(len(x)/2),dtype = complex)\n",
    "    X=np.zeros(int(len(x)),dtype = complex)\n",
    "    for k in range(0,int(len(x)/2)):\n",
    "        x1[k]=x[2*k]\n",
    "        x2[k]=x[2*k+1]\n",
    "        \n",
    "    X1[0]=x1[0]+x1[1]*Wnm(4,0)\n",
    "    X1[1]=x1[0]-x1[1]*Wnm(4,0)\n",
    "    X2[0]=x2[0]+x2[1]*Wnm(4,0)\n",
    "    X2[1]=x2[0]-x2[1]*Wnm(4,0)\n",
    "    X[0]=X1[0]+X2[0]*Wnm(4,0)\n",
    "    X[1]=X1[1]+X2[1]*Wnm(4,1)\n",
    "    X[2]=X1[0]-X2[0]*Wnm(4,0)\n",
    "    X[3]=X1[1]-X2[1]*Wnm(4,1)\n",
    "    return X\n",
    "\n",
    "#基2时间抽取8点FFT\n",
    "def FFT_8(x):\n",
    "    x1=np.zeros(int(len(x)/2),dtype = complex)\n",
    "    x2=np.zeros(int(len(x)/2),dtype = complex)\n",
    "    X1=np.zeros(int(len(x)/4),dtype = complex)\n",
    "    X2=np.zeros(int(len(x)/4),dtype = complex)\n",
    "    X3=np.zeros(int(len(x)/4),dtype = complex)\n",
    "    X4=np.zeros(int(len(x)/4),dtype = complex)\n",
    "    XX1=np.zeros(int(len(x)/2),dtype = complex)\n",
    "    XX2=np.zeros(int(len(x)/2),dtype = complex)\n",
    "    X=np.zeros(int(len(x)),dtype = complex)\n",
    "    for k in range(0,int(len(x)/2)):\n",
    "        x1[k]=x[2*k]\n",
    "        x2[k]=x[2*k+1]\n",
    "    #第一级\n",
    "    X1[0]=x1[0]+x1[2]*Wnm(8,0)\n",
    "    X1[1]=x1[0]-x1[2]*Wnm(8,0)\n",
    "    X2[0]=x1[1]+x1[3]*Wnm(8,0)\n",
    "    X2[1]=x1[1]-x1[3]*Wnm(8,0)\n",
    "    X3[0]=x2[0]+x2[2]*Wnm(8,0)\n",
    "    X3[1]=x2[0]-x2[2]*Wnm(8,0)\n",
    "    X4[0]=x2[1]+x2[3]*Wnm(8,0)\n",
    "    X4[1]=x2[1]-x2[3]*Wnm(8,0)\n",
    "    \n",
    "    #第二级\n",
    "    XX1[0]=X1[0]+X2[0]*Wnm(8,0)\n",
    "    XX1[1]=X1[1]+X2[1]*Wnm(8,2)\n",
    "    XX1[2]=X1[0]-X2[0]*Wnm(8,0)\n",
    "    XX1[3]=X1[1]-X2[1]*Wnm(8,2)\n",
    "    XX2[0]=X3[0]+X4[0]*Wnm(8,0)\n",
    "    XX2[1]=X3[1]+X4[1]*Wnm(8,2)\n",
    "    XX2[2]=X3[0]-X4[0]*Wnm(8,0)\n",
    "    XX2[3]=X3[1]-X4[1]*Wnm(8,2)\n",
    "    \n",
    "    #第三级\n",
    "    X[0]=XX1[0]+XX2[0]*Wnm(8,0)\n",
    "    X[1]=XX1[1]+XX2[1]*Wnm(8,1)\n",
    "    X[2]=XX1[2]+XX2[2]*Wnm(8,2)\n",
    "    X[3]=XX1[3]+XX2[3]*Wnm(8,3)\n",
    "    X[4]=XX1[0]-XX2[0]*Wnm(8,0)\n",
    "    X[5]=XX1[1]-XX2[1]*Wnm(8,1)\n",
    "    X[6]=XX1[2]-XX2[2]*Wnm(8,2)\n",
    "    X[7]=XX1[3]-XX2[3]*Wnm(8,3)\n",
    "    return X1,X2,X3,X4,XX1,XX2,X"
   ]
  },
  {
   "cell_type": "code",
   "execution_count": 4,
   "metadata": {},
   "outputs": [
    {
     "data": {
      "text/plain": [
       "array([10.+0.j, -2.+2.j, -2.+0.j, -2.-2.j])"
      ]
     },
     "execution_count": 4,
     "metadata": {},
     "output_type": "execute_result"
    }
   ],
   "source": [
    "x=[1,2,3,4]\n",
    "FFT_4(x)"
   ]
  },
  {
   "cell_type": "code",
   "execution_count": 5,
   "metadata": {},
   "outputs": [
    {
     "data": {
      "text/plain": [
       "(array([1.+0.j, 1.+0.j]),\n",
       " array([1.+0.j, 1.+0.j]),\n",
       " array([1.+0.j, 1.+0.j]),\n",
       " array([1.+0.j, 1.+0.j]),\n",
       " array([2.+0.j, 1.-1.j, 0.+0.j, 1.+1.j]),\n",
       " array([2.+0.j, 1.-1.j, 0.+0.j, 1.+1.j]),\n",
       " array([4.+0.j        , 1.-2.41421356j, 0.+0.j        , 1.-0.41421356j,\n",
       "        0.+0.j        , 1.+0.41421356j, 0.+0.j        , 1.+2.41421356j]))"
      ]
     },
     "execution_count": 5,
     "metadata": {},
     "output_type": "execute_result"
    }
   ],
   "source": [
    "x=[1,1,1,1,0,0,0,0]\n",
    "FFT_8(x)"
   ]
  },
  {
   "cell_type": "code",
   "execution_count": 6,
   "metadata": {},
   "outputs": [],
   "source": [
    "#IFFT快速算法: 8点IFFT\n",
    "def IFFT_8(X):\n",
    "    X=np.conjugate(X)\n",
    "    X=FFT_8(X)\n",
    "    X=np.conjugate(X)\n",
    "    x=X/8\n",
    "    return x"
   ]
  },
  {
   "cell_type": "code",
   "execution_count": 7,
   "metadata": {},
   "outputs": [],
   "source": [
    "#IFFT快速算法:4点IFFT\n",
    "def IFFT_4(X):\n",
    "    x=np.zeros(int(len(X)),dtype = complex)\n",
    "    X=np.conjugate(X)\n",
    "    X=FFT_4(X)\n",
    "    X=np.conjugate(X)\n",
    "    x=X/4.0\n",
    "    return x"
   ]
  },
  {
   "cell_type": "code",
   "execution_count": 8,
   "metadata": {},
   "outputs": [
    {
     "data": {
      "text/plain": [
       "array([ 2.50000000e+00+3.5j, -5.55111512e-17-1.j , -5.00000000e-01-0.5j,\n",
       "       -1.00000000e+00+0.j ])"
      ]
     },
     "execution_count": 8,
     "metadata": {},
     "output_type": "execute_result"
    }
   ],
   "source": [
    "X=[1+2j, 2+3j, 3+4j, 4+5j]\n",
    "IFFT_4(X)"
   ]
  },
  {
   "cell_type": "code",
   "execution_count": null,
   "metadata": {},
   "outputs": [],
   "source": []
  }
 ],
 "metadata": {
  "kernelspec": {
   "display_name": "Python 3",
   "language": "python",
   "name": "python3"
  },
  "language_info": {
   "codemirror_mode": {
    "name": "ipython",
    "version": 3
   },
   "file_extension": ".py",
   "mimetype": "text/x-python",
   "name": "python",
   "nbconvert_exporter": "python",
   "pygments_lexer": "ipython3",
   "version": "3.7.3"
  }
 },
 "nbformat": 4,
 "nbformat_minor": 2
}
